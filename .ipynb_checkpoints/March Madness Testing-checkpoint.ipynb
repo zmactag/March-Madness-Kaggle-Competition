{
 "cells": [
  {
   "cell_type": "code",
   "execution_count": 3,
   "id": "c6ec8cf8",
   "metadata": {},
   "outputs": [],
   "source": [
    "# Libraries\n",
    "\n",
    "import numpy\n",
    "import pandas\n",
    "\n",
    "import sklearn\n",
    "\n",
    "import os"
   ]
  },
  {
   "cell_type": "markdown",
   "id": "d2ae61c8",
   "metadata": {},
   "source": [
    "## Notes from my subject matter 'experts' aka my friend Jeff\n",
    "\n",
    "- Look at seeding\n",
    "- Draft Projections of Each Player\n",
    "- Individual Player Scoring\n",
    "- Team Based\n",
    "- Team Age / Senority / Experience\n",
    "- Same Roster\n",
    "- Coaches - Records/Years Coached\n",
    "- Conference Winners\n",
    "- Defensive Stats\n",
    "- Lowest Turnover Averages\n",
    "- Injury Amounts / Frequency / Missing Players\n",
    "- Average Height of Starter Center\n",
    "- ALL OF DATA SECTION 2\n",
    "- SECTION 3 NO\n",
    "- Ranking for this year - Section 4\n",
    "- Coach Stuff from Section 5\n",
    "\n",
    "#### Look into adding these to the data:\n",
    "- Average dunks (whole team)\n",
    " - Average Fan Away Game Attendance\n",
    "# - Winning percentage and Frequency of Day Games\n",
    "# - Winning Percentage of Morning Games\n",
    "# - Free Throw % of Centers\n",
    "# - Lowest Foul %\n",
    "# - Hand Size\n",
    "# - Jeff Factor -> Small Point Guard + Steals + Assists^3 + Low Turnovers + High Free Throw %^2\n",
    "    # - Height/Low Turnovers -> Negative Exponent\n",
    "    # - Normalize all of this first!!!!!!!"
   ]
  },
  {
   "cell_type": "code",
   "execution_count": null,
   "id": "4265bbcd",
   "metadata": {},
   "outputs": [],
   "source": [
    "# Importing Files\n",
    "\n",
    "file_path1 = 'C:/Users/teste/Downloads/march_madness_mania/'\n",
    "file_path2 = ''\n",
    "file_path3 = ''\n",
    "file_path4 = ''\n",
    "file_path5 = ''\n",
    "file_path6 = ''\n",
    "file_path7 = ''\n",
    "file_path8 = ''\n",
    "file_path9 = ''\n",
    "file_path10 = ''\n",
    "file_path11 = ''\n",
    "file_path12 = ''"
   ]
  }
 ],
 "metadata": {
  "kernelspec": {
   "display_name": "Python 3 (ipykernel)",
   "language": "python",
   "name": "python3"
  },
  "language_info": {
   "codemirror_mode": {
    "name": "ipython",
    "version": 3
   },
   "file_extension": ".py",
   "mimetype": "text/x-python",
   "name": "python",
   "nbconvert_exporter": "python",
   "pygments_lexer": "ipython3",
   "version": "3.10.9"
  },
  "varInspector": {
   "cols": {
    "lenName": 16,
    "lenType": 16,
    "lenVar": 40
   },
   "kernels_config": {
    "python": {
     "delete_cmd_postfix": "",
     "delete_cmd_prefix": "del ",
     "library": "var_list.py",
     "varRefreshCmd": "print(var_dic_list())"
    },
    "r": {
     "delete_cmd_postfix": ") ",
     "delete_cmd_prefix": "rm(",
     "library": "var_list.r",
     "varRefreshCmd": "cat(var_dic_list()) "
    }
   },
   "types_to_exclude": [
    "module",
    "function",
    "builtin_function_or_method",
    "instance",
    "_Feature"
   ],
   "window_display": false
  }
 },
 "nbformat": 4,
 "nbformat_minor": 5
}
